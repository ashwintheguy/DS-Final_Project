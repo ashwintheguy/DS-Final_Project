{
 "cells": [
  {
   "cell_type": "markdown",
   "metadata": {},
   "source": [
    "Movie Title and Review Analysis \n",
    "- Can we train a machine learning model to predict the popularity of movies based on the learnings from movie titles? \n",
    "- Can we do it within reasonable time with reasonable accuracy?\n",
    "- Can we optimize the model training in a principled fashion?\n"
   ]
  },
  {
   "cell_type": "code",
   "execution_count": 1,
   "metadata": {},
   "outputs": [
    {
     "name": "stdout",
     "output_type": "stream",
     "text": [
      "[nltk_data] Downloading package punkt to\n",
      "[nltk_data]     C:\\Users\\ebalgza\\AppData\\Roaming\\nltk_data...\n",
      "[nltk_data]   Package punkt is already up-to-date!\n"
     ]
    }
   ],
   "source": [
    "import pandas as pd\n",
    "import collections\n",
    "import os\n",
    "import nltk\n",
    "import numpy as np\n",
    "import matplotlib.pyplot as plt\n",
    "import string\n",
    "\n",
    "nltk.download(\"punkt\")\n",
    "%matplotlib inline"
   ]
  },
  {
   "cell_type": "code",
   "execution_count": 2,
   "metadata": {
    "scrolled": true
   },
   "outputs": [
    {
     "name": "stdout",
     "output_type": "stream",
     "text": [
      "['movies.csv', 'ratings.csv.001', 'ratings.csv.002', 'ratings.csv.003', 'ratings.csv.004', 'ratingsorig.csv']\n"
     ]
    }
   ],
   "source": [
    "print(os.listdir(\"movies\"))\n"
   ]
  },
  {
   "cell_type": "code",
   "execution_count": 3,
   "metadata": {},
   "outputs": [],
   "source": [
    "#Let's load the data\n",
    "# If you are like me, and the laptop can't process 500 megs of rating, use a slice\n",
    "# Feel free to use the whole set if you have da powah, just uncomment last line\n",
    "movies = pd.read_csv(\"movies/movies.csv\", sep=\",\")\n",
    "ratings = pd.read_csv(\"./movielens/ratingsorig.csv.001\", sep = \",\") \n",
    "#ratings = pd.read_csv(\"movies/ratings.csv.001\") #get the \n",
    "#ratings = pd.read_csv(\"movies/ratingsorig.csv\") #my laptop can't handle the size"
   ]
  },
  {
   "cell_type": "code",
   "execution_count": 4,
   "metadata": {},
   "outputs": [
    {
     "data": {
      "text/html": [
       "<div>\n",
       "<style scoped>\n",
       "    .dataframe tbody tr th:only-of-type {\n",
       "        vertical-align: middle;\n",
       "    }\n",
       "\n",
       "    .dataframe tbody tr th {\n",
       "        vertical-align: top;\n",
       "    }\n",
       "\n",
       "    .dataframe thead th {\n",
       "        text-align: right;\n",
       "    }\n",
       "</style>\n",
       "<table border=\"1\" class=\"dataframe\">\n",
       "  <thead>\n",
       "    <tr style=\"text-align: right;\">\n",
       "      <th></th>\n",
       "      <th>movieId</th>\n",
       "      <th>title</th>\n",
       "      <th>genres</th>\n",
       "    </tr>\n",
       "  </thead>\n",
       "  <tbody>\n",
       "    <tr>\n",
       "      <th>0</th>\n",
       "      <td>1</td>\n",
       "      <td>Toy Story (1995)</td>\n",
       "      <td>Adventure|Animation|Children|Comedy|Fantasy</td>\n",
       "    </tr>\n",
       "    <tr>\n",
       "      <th>1</th>\n",
       "      <td>2</td>\n",
       "      <td>Jumanji (1995)</td>\n",
       "      <td>Adventure|Children|Fantasy</td>\n",
       "    </tr>\n",
       "    <tr>\n",
       "      <th>2</th>\n",
       "      <td>3</td>\n",
       "      <td>Grumpier Old Men (1995)</td>\n",
       "      <td>Comedy|Romance</td>\n",
       "    </tr>\n",
       "    <tr>\n",
       "      <th>3</th>\n",
       "      <td>4</td>\n",
       "      <td>Waiting to Exhale (1995)</td>\n",
       "      <td>Comedy|Drama|Romance</td>\n",
       "    </tr>\n",
       "    <tr>\n",
       "      <th>4</th>\n",
       "      <td>5</td>\n",
       "      <td>Father of the Bride Part II (1995)</td>\n",
       "      <td>Comedy</td>\n",
       "    </tr>\n",
       "  </tbody>\n",
       "</table>\n",
       "</div>"
      ],
      "text/plain": [
       "   movieId                               title  \\\n",
       "0        1                    Toy Story (1995)   \n",
       "1        2                      Jumanji (1995)   \n",
       "2        3             Grumpier Old Men (1995)   \n",
       "3        4            Waiting to Exhale (1995)   \n",
       "4        5  Father of the Bride Part II (1995)   \n",
       "\n",
       "                                        genres  \n",
       "0  Adventure|Animation|Children|Comedy|Fantasy  \n",
       "1                   Adventure|Children|Fantasy  \n",
       "2                               Comedy|Romance  \n",
       "3                         Comedy|Drama|Romance  \n",
       "4                                       Comedy  "
      ]
     },
     "execution_count": 4,
     "metadata": {},
     "output_type": "execute_result"
    }
   ],
   "source": [
    "movies.head()"
   ]
  },
  {
   "cell_type": "code",
   "execution_count": 5,
   "metadata": {},
   "outputs": [
    {
     "data": {
      "text/html": [
       "<div>\n",
       "<style scoped>\n",
       "    .dataframe tbody tr th:only-of-type {\n",
       "        vertical-align: middle;\n",
       "    }\n",
       "\n",
       "    .dataframe tbody tr th {\n",
       "        vertical-align: top;\n",
       "    }\n",
       "\n",
       "    .dataframe thead th {\n",
       "        text-align: right;\n",
       "    }\n",
       "</style>\n",
       "<table border=\"1\" class=\"dataframe\">\n",
       "  <thead>\n",
       "    <tr style=\"text-align: right;\">\n",
       "      <th></th>\n",
       "      <th>userId</th>\n",
       "      <th>movieId</th>\n",
       "      <th>rating</th>\n",
       "      <th>timestamp</th>\n",
       "    </tr>\n",
       "  </thead>\n",
       "  <tbody>\n",
       "    <tr>\n",
       "      <th>0</th>\n",
       "      <td>1</td>\n",
       "      <td>2</td>\n",
       "      <td>3.5</td>\n",
       "      <td>1112486027</td>\n",
       "    </tr>\n",
       "    <tr>\n",
       "      <th>1</th>\n",
       "      <td>1</td>\n",
       "      <td>29</td>\n",
       "      <td>3.5</td>\n",
       "      <td>1112484676</td>\n",
       "    </tr>\n",
       "    <tr>\n",
       "      <th>2</th>\n",
       "      <td>1</td>\n",
       "      <td>32</td>\n",
       "      <td>3.5</td>\n",
       "      <td>1112484819</td>\n",
       "    </tr>\n",
       "    <tr>\n",
       "      <th>3</th>\n",
       "      <td>1</td>\n",
       "      <td>47</td>\n",
       "      <td>3.5</td>\n",
       "      <td>1112484727</td>\n",
       "    </tr>\n",
       "    <tr>\n",
       "      <th>4</th>\n",
       "      <td>1</td>\n",
       "      <td>50</td>\n",
       "      <td>3.5</td>\n",
       "      <td>1112484580</td>\n",
       "    </tr>\n",
       "  </tbody>\n",
       "</table>\n",
       "</div>"
      ],
      "text/plain": [
       "   userId  movieId  rating   timestamp\n",
       "0       1        2     3.5  1112486027\n",
       "1       1       29     3.5  1112484676\n",
       "2       1       32     3.5  1112484819\n",
       "3       1       47     3.5  1112484727\n",
       "4       1       50     3.5  1112484580"
      ]
     },
     "execution_count": 5,
     "metadata": {},
     "output_type": "execute_result"
    }
   ],
   "source": [
    "ratings.head()"
   ]
  },
  {
   "cell_type": "markdown",
   "metadata": {},
   "source": [
    "Sum the number of positive reviews for each movie\n"
   ]
  },
  {
   "cell_type": "code",
   "execution_count": 6,
   "metadata": {},
   "outputs": [
    {
     "data": {
      "text/plain": [
       "6001266    False\n",
       "6001267    False\n",
       "6001268     True\n",
       "6001269    False\n",
       "6001270     True\n",
       "6001271    False\n",
       "6001272    False\n",
       "6001273    False\n",
       "6001274    False\n",
       "6001275     True\n",
       "Name: rating, dtype: bool"
      ]
     },
     "execution_count": 6,
     "metadata": {},
     "output_type": "execute_result"
    }
   ],
   "source": [
    "#How do we define a really good rating?\n",
    "#Not just a plain old - yeah it was alright kinda movie\n",
    "#Let's make it way above average, 4.5 and 5\n",
    "positive_ratings = ratings['rating'] > 4\n",
    "positive_ratings[6001266:6001276]"
   ]
  },
  {
   "cell_type": "code",
   "execution_count": 7,
   "metadata": {},
   "outputs": [
    {
     "data": {
      "text/html": [
       "<div>\n",
       "<style scoped>\n",
       "    .dataframe tbody tr th:only-of-type {\n",
       "        vertical-align: middle;\n",
       "    }\n",
       "\n",
       "    .dataframe tbody tr th {\n",
       "        vertical-align: top;\n",
       "    }\n",
       "\n",
       "    .dataframe thead th {\n",
       "        text-align: right;\n",
       "    }\n",
       "</style>\n",
       "<table border=\"1\" class=\"dataframe\">\n",
       "  <thead>\n",
       "    <tr style=\"text-align: right;\">\n",
       "      <th></th>\n",
       "      <th>userId</th>\n",
       "      <th>movieId</th>\n",
       "      <th>rating</th>\n",
       "      <th>timestamp</th>\n",
       "    </tr>\n",
       "  </thead>\n",
       "  <tbody>\n",
       "    <tr>\n",
       "      <th>414</th>\n",
       "      <td>3</td>\n",
       "      <td>2985</td>\n",
       "      <td>5.0</td>\n",
       "      <td>944919729</td>\n",
       "    </tr>\n",
       "    <tr>\n",
       "      <th>416</th>\n",
       "      <td>3</td>\n",
       "      <td>3033</td>\n",
       "      <td>5.0</td>\n",
       "      <td>944919729</td>\n",
       "    </tr>\n",
       "    <tr>\n",
       "      <th>417</th>\n",
       "      <td>3</td>\n",
       "      <td>3039</td>\n",
       "      <td>5.0</td>\n",
       "      <td>944919189</td>\n",
       "    </tr>\n",
       "    <tr>\n",
       "      <th>422</th>\n",
       "      <td>3</td>\n",
       "      <td>5060</td>\n",
       "      <td>5.0</td>\n",
       "      <td>944917450</td>\n",
       "    </tr>\n",
       "    <tr>\n",
       "      <th>439</th>\n",
       "      <td>4</td>\n",
       "      <td>454</td>\n",
       "      <td>5.0</td>\n",
       "      <td>840878944</td>\n",
       "    </tr>\n",
       "    <tr>\n",
       "      <th>450</th>\n",
       "      <td>4</td>\n",
       "      <td>733</td>\n",
       "      <td>5.0</td>\n",
       "      <td>840879322</td>\n",
       "    </tr>\n",
       "    <tr>\n",
       "      <th>452</th>\n",
       "      <td>5</td>\n",
       "      <td>11</td>\n",
       "      <td>5.0</td>\n",
       "      <td>851527751</td>\n",
       "    </tr>\n",
       "    <tr>\n",
       "      <th>455</th>\n",
       "      <td>5</td>\n",
       "      <td>62</td>\n",
       "      <td>5.0</td>\n",
       "      <td>851526935</td>\n",
       "    </tr>\n",
       "    <tr>\n",
       "      <th>459</th>\n",
       "      <td>5</td>\n",
       "      <td>141</td>\n",
       "      <td>5.0</td>\n",
       "      <td>851526935</td>\n",
       "    </tr>\n",
       "    <tr>\n",
       "      <th>460</th>\n",
       "      <td>5</td>\n",
       "      <td>150</td>\n",
       "      <td>5.0</td>\n",
       "      <td>851527514</td>\n",
       "    </tr>\n",
       "  </tbody>\n",
       "</table>\n",
       "</div>"
      ],
      "text/plain": [
       "     userId  movieId  rating  timestamp\n",
       "414       3     2985     5.0  944919729\n",
       "416       3     3033     5.0  944919729\n",
       "417       3     3039     5.0  944919189\n",
       "422       3     5060     5.0  944917450\n",
       "439       4      454     5.0  840878944\n",
       "450       4      733     5.0  840879322\n",
       "452       5       11     5.0  851527751\n",
       "455       5       62     5.0  851526935\n",
       "459       5      141     5.0  851526935\n",
       "460       5      150     5.0  851527514"
      ]
     },
     "execution_count": 7,
     "metadata": {},
     "output_type": "execute_result"
    }
   ],
   "source": [
    "#I want to see those raving good ratigs\n",
    "good_film_ratings = ratings[positive_ratings]\n",
    "good_film_ratings[105:115]"
   ]
  },
  {
   "cell_type": "code",
   "execution_count": 8,
   "metadata": {},
   "outputs": [
    {
     "data": {
      "text/html": [
       "<div>\n",
       "<style scoped>\n",
       "    .dataframe tbody tr th:only-of-type {\n",
       "        vertical-align: middle;\n",
       "    }\n",
       "\n",
       "    .dataframe tbody tr th {\n",
       "        vertical-align: top;\n",
       "    }\n",
       "\n",
       "    .dataframe thead th {\n",
       "        text-align: right;\n",
       "    }\n",
       "</style>\n",
       "<table border=\"1\" class=\"dataframe\">\n",
       "  <thead>\n",
       "    <tr style=\"text-align: right;\">\n",
       "      <th></th>\n",
       "      <th>userId</th>\n",
       "      <th>movieId</th>\n",
       "      <th>rating</th>\n",
       "      <th>timestamp</th>\n",
       "    </tr>\n",
       "  </thead>\n",
       "  <tbody>\n",
       "    <tr>\n",
       "      <th>30</th>\n",
       "      <td>1</td>\n",
       "      <td>1196</td>\n",
       "      <td>4.5</td>\n",
       "      <td>1112484742</td>\n",
       "    </tr>\n",
       "    <tr>\n",
       "      <th>190</th>\n",
       "      <td>2</td>\n",
       "      <td>1196</td>\n",
       "      <td>5.0</td>\n",
       "      <td>974821014</td>\n",
       "    </tr>\n",
       "    <tr>\n",
       "      <th>286</th>\n",
       "      <td>3</td>\n",
       "      <td>1196</td>\n",
       "      <td>5.0</td>\n",
       "      <td>944917859</td>\n",
       "    </tr>\n",
       "    <tr>\n",
       "      <th>512</th>\n",
       "      <td>5</td>\n",
       "      <td>1196</td>\n",
       "      <td>5.0</td>\n",
       "      <td>851617674</td>\n",
       "    </tr>\n",
       "    <tr>\n",
       "      <th>602</th>\n",
       "      <td>7</td>\n",
       "      <td>1196</td>\n",
       "      <td>5.0</td>\n",
       "      <td>1011204572</td>\n",
       "    </tr>\n",
       "  </tbody>\n",
       "</table>\n",
       "</div>"
      ],
      "text/plain": [
       "     userId  movieId  rating   timestamp\n",
       "30        1     1196     4.5  1112484742\n",
       "190       2     1196     5.0   974821014\n",
       "286       3     1196     5.0   944917859\n",
       "512       5     1196     5.0   851617674\n",
       "602       7     1196     5.0  1011204572"
      ]
     },
     "execution_count": 8,
     "metadata": {},
     "output_type": "execute_result"
    }
   ],
   "source": [
    "#What does this look like for one particular movie?\n",
    "movie1196_filter = good_film_ratings['movieId'] == 1196\n",
    "movies1196 = good_film_ratings[movie1196_filter]\n",
    "movies1196.head()"
   ]
  },
  {
   "cell_type": "code",
   "execution_count": 9,
   "metadata": {},
   "outputs": [
    {
     "data": {
      "text/html": [
       "<div>\n",
       "<style scoped>\n",
       "    .dataframe tbody tr th:only-of-type {\n",
       "        vertical-align: middle;\n",
       "    }\n",
       "\n",
       "    .dataframe tbody tr th {\n",
       "        vertical-align: top;\n",
       "    }\n",
       "\n",
       "    .dataframe thead th {\n",
       "        text-align: right;\n",
       "    }\n",
       "</style>\n",
       "<table border=\"1\" class=\"dataframe\">\n",
       "  <thead>\n",
       "    <tr style=\"text-align: right;\">\n",
       "      <th></th>\n",
       "      <th>userId</th>\n",
       "      <th>movieId</th>\n",
       "      <th>rating</th>\n",
       "      <th>timestamp</th>\n",
       "    </tr>\n",
       "  </thead>\n",
       "  <tbody>\n",
       "    <tr>\n",
       "      <th>30</th>\n",
       "      <td>1</td>\n",
       "      <td>1196</td>\n",
       "      <td>4.5</td>\n",
       "      <td>1112484742</td>\n",
       "    </tr>\n",
       "    <tr>\n",
       "      <th>31</th>\n",
       "      <td>1</td>\n",
       "      <td>1198</td>\n",
       "      <td>4.5</td>\n",
       "      <td>1112484624</td>\n",
       "    </tr>\n",
       "    <tr>\n",
       "      <th>131</th>\n",
       "      <td>1</td>\n",
       "      <td>4993</td>\n",
       "      <td>5.0</td>\n",
       "      <td>1112484682</td>\n",
       "    </tr>\n",
       "    <tr>\n",
       "      <th>142</th>\n",
       "      <td>1</td>\n",
       "      <td>5952</td>\n",
       "      <td>5.0</td>\n",
       "      <td>1112484619</td>\n",
       "    </tr>\n",
       "    <tr>\n",
       "      <th>158</th>\n",
       "      <td>1</td>\n",
       "      <td>7153</td>\n",
       "      <td>5.0</td>\n",
       "      <td>1112484633</td>\n",
       "    </tr>\n",
       "  </tbody>\n",
       "</table>\n",
       "</div>"
      ],
      "text/plain": [
       "     userId  movieId  rating   timestamp\n",
       "30        1     1196     4.5  1112484742\n",
       "31        1     1198     4.5  1112484624\n",
       "131       1     4993     5.0  1112484682\n",
       "142       1     5952     5.0  1112484619\n",
       "158       1     7153     5.0  1112484633"
      ]
     },
     "execution_count": 9,
     "metadata": {},
     "output_type": "execute_result"
    }
   ],
   "source": [
    "good_film_ratings.head()"
   ]
  },
  {
   "cell_type": "code",
   "execution_count": 10,
   "metadata": {},
   "outputs": [
    {
     "data": {
      "text/html": [
       "<div>\n",
       "<style scoped>\n",
       "    .dataframe tbody tr th:only-of-type {\n",
       "        vertical-align: middle;\n",
       "    }\n",
       "\n",
       "    .dataframe tbody tr th {\n",
       "        vertical-align: top;\n",
       "    }\n",
       "\n",
       "    .dataframe thead th {\n",
       "        text-align: right;\n",
       "    }\n",
       "</style>\n",
       "<table border=\"1\" class=\"dataframe\">\n",
       "  <thead>\n",
       "    <tr style=\"text-align: right;\">\n",
       "      <th></th>\n",
       "      <th>movieId</th>\n",
       "      <th>title</th>\n",
       "      <th>genres</th>\n",
       "    </tr>\n",
       "  </thead>\n",
       "  <tbody>\n",
       "    <tr>\n",
       "      <th>0</th>\n",
       "      <td>1</td>\n",
       "      <td>Toy Story (1995)</td>\n",
       "      <td>Adventure|Animation|Children|Comedy|Fantasy</td>\n",
       "    </tr>\n",
       "    <tr>\n",
       "      <th>1</th>\n",
       "      <td>2</td>\n",
       "      <td>Jumanji (1995)</td>\n",
       "      <td>Adventure|Children|Fantasy</td>\n",
       "    </tr>\n",
       "    <tr>\n",
       "      <th>2</th>\n",
       "      <td>3</td>\n",
       "      <td>Grumpier Old Men (1995)</td>\n",
       "      <td>Comedy|Romance</td>\n",
       "    </tr>\n",
       "    <tr>\n",
       "      <th>3</th>\n",
       "      <td>4</td>\n",
       "      <td>Waiting to Exhale (1995)</td>\n",
       "      <td>Comedy|Drama|Romance</td>\n",
       "    </tr>\n",
       "    <tr>\n",
       "      <th>4</th>\n",
       "      <td>5</td>\n",
       "      <td>Father of the Bride Part II (1995)</td>\n",
       "      <td>Comedy</td>\n",
       "    </tr>\n",
       "  </tbody>\n",
       "</table>\n",
       "</div>"
      ],
      "text/plain": [
       "   movieId                               title  \\\n",
       "0        1                    Toy Story (1995)   \n",
       "1        2                      Jumanji (1995)   \n",
       "2        3             Grumpier Old Men (1995)   \n",
       "3        4            Waiting to Exhale (1995)   \n",
       "4        5  Father of the Bride Part II (1995)   \n",
       "\n",
       "                                        genres  \n",
       "0  Adventure|Animation|Children|Comedy|Fantasy  \n",
       "1                   Adventure|Children|Fantasy  \n",
       "2                               Comedy|Romance  \n",
       "3                         Comedy|Drama|Romance  \n",
       "4                                       Comedy  "
      ]
     },
     "execution_count": 10,
     "metadata": {},
     "output_type": "execute_result"
    }
   ],
   "source": [
    "#Feel free to take a look at the way the data currently looks\n",
    "movies.head()\n",
    "#ratings.head()\n",
    "#good_film_ratings.head()"
   ]
  },
  {
   "cell_type": "code",
   "execution_count": null,
   "metadata": {},
   "outputs": [],
   "source": []
  },
  {
   "cell_type": "code",
   "execution_count": 11,
   "metadata": {},
   "outputs": [],
   "source": [
    "#Let's sum up the excellent ratings for the movies\n",
    "number_of_excellent_ratings = good_film_ratings.groupby(by = \"movieId\")['rating'].count()\n",
    "sum_of_excellent_ratings = good_film_ratings.groupby(by = \"movieId\")['rating'].sum()"
   ]
  },
  {
   "cell_type": "code",
   "execution_count": 12,
   "metadata": {},
   "outputs": [
    {
     "data": {
      "text/plain": [
       "movieId\n",
       "36    2010\n",
       "37       4\n",
       "38      28\n",
       "39    1096\n",
       "40      55\n",
       "41     363\n",
       "42      48\n",
       "43      95\n",
       "44     160\n",
       "45     325\n",
       "Name: rating, dtype: int64"
      ]
     },
     "execution_count": 12,
     "metadata": {},
     "output_type": "execute_result"
    }
   ],
   "source": [
    "number_of_excellent_ratings[35:45]\n",
    "#sum_of_excellent_ratings[35:45] #uncomment this line to see the overall weight these ratings carry"
   ]
  },
  {
   "cell_type": "code",
   "execution_count": 13,
   "metadata": {},
   "outputs": [
    {
     "name": "stdout",
     "output_type": "stream",
     "text": [
      "For reference, here are the positive ratings:\n",
      "6001265    False\n",
      "6001266    False\n",
      "6001267    False\n",
      "6001268     True\n",
      "6001269    False\n",
      "Name: rating, dtype: bool\n"
     ]
    }
   ],
   "source": [
    "# But a movie is not good must because it has positive reviews\n",
    "# It needs to have a whole lot more excellent reviews than negatives\n",
    "# Let's create a negative ratings list function\n",
    "print(\"For reference, here are the positive ratings:\")\n",
    "print(positive_ratings[6001265:6001270])"
   ]
  },
  {
   "cell_type": "code",
   "execution_count": 14,
   "metadata": {},
   "outputs": [
    {
     "name": "stdout",
     "output_type": "stream",
     "text": [
      "Negative reviews:\n"
     ]
    },
    {
     "data": {
      "text/plain": [
       "0    False\n",
       "1    False\n",
       "2    False\n",
       "3    False\n",
       "4    False\n",
       "Name: rating, dtype: bool"
      ]
     },
     "execution_count": 14,
     "metadata": {},
     "output_type": "execute_result"
    }
   ],
   "source": [
    "#Any ratings that is less than 2 is truly a baaad one\n",
    "print(\"Negative reviews:\")\n",
    "negative_ratings = ratings['rating'] < 2\n",
    "negative_ratings.head()"
   ]
  },
  {
   "cell_type": "code",
   "execution_count": 15,
   "metadata": {},
   "outputs": [
    {
     "data": {
      "text/html": [
       "<div>\n",
       "<style scoped>\n",
       "    .dataframe tbody tr th:only-of-type {\n",
       "        vertical-align: middle;\n",
       "    }\n",
       "\n",
       "    .dataframe tbody tr th {\n",
       "        vertical-align: top;\n",
       "    }\n",
       "\n",
       "    .dataframe thead th {\n",
       "        text-align: right;\n",
       "    }\n",
       "</style>\n",
       "<table border=\"1\" class=\"dataframe\">\n",
       "  <thead>\n",
       "    <tr style=\"text-align: right;\">\n",
       "      <th></th>\n",
       "      <th>userId</th>\n",
       "      <th>movieId</th>\n",
       "      <th>rating</th>\n",
       "      <th>timestamp</th>\n",
       "    </tr>\n",
       "  </thead>\n",
       "  <tbody>\n",
       "    <tr>\n",
       "      <th>3297</th>\n",
       "      <td>28</td>\n",
       "      <td>185</td>\n",
       "      <td>1.0</td>\n",
       "      <td>834093021</td>\n",
       "    </tr>\n",
       "    <tr>\n",
       "      <th>3298</th>\n",
       "      <td>28</td>\n",
       "      <td>196</td>\n",
       "      <td>1.0</td>\n",
       "      <td>834093089</td>\n",
       "    </tr>\n",
       "    <tr>\n",
       "      <th>3302</th>\n",
       "      <td>28</td>\n",
       "      <td>266</td>\n",
       "      <td>1.0</td>\n",
       "      <td>834093066</td>\n",
       "    </tr>\n",
       "    <tr>\n",
       "      <th>3315</th>\n",
       "      <td>28</td>\n",
       "      <td>417</td>\n",
       "      <td>1.0</td>\n",
       "      <td>834092871</td>\n",
       "    </tr>\n",
       "    <tr>\n",
       "      <th>3323</th>\n",
       "      <td>28</td>\n",
       "      <td>590</td>\n",
       "      <td>1.0</td>\n",
       "      <td>834092660</td>\n",
       "    </tr>\n",
       "    <tr>\n",
       "      <th>3434</th>\n",
       "      <td>29</td>\n",
       "      <td>371</td>\n",
       "      <td>1.0</td>\n",
       "      <td>835638228</td>\n",
       "    </tr>\n",
       "    <tr>\n",
       "      <th>3504</th>\n",
       "      <td>30</td>\n",
       "      <td>163</td>\n",
       "      <td>1.0</td>\n",
       "      <td>1204791725</td>\n",
       "    </tr>\n",
       "    <tr>\n",
       "      <th>3505</th>\n",
       "      <td>30</td>\n",
       "      <td>168</td>\n",
       "      <td>0.5</td>\n",
       "      <td>1204791801</td>\n",
       "    </tr>\n",
       "    <tr>\n",
       "      <th>3510</th>\n",
       "      <td>30</td>\n",
       "      <td>555</td>\n",
       "      <td>1.5</td>\n",
       "      <td>1204791757</td>\n",
       "    </tr>\n",
       "    <tr>\n",
       "      <th>3538</th>\n",
       "      <td>31</td>\n",
       "      <td>527</td>\n",
       "      <td>0.5</td>\n",
       "      <td>1424733598</td>\n",
       "    </tr>\n",
       "  </tbody>\n",
       "</table>\n",
       "</div>"
      ],
      "text/plain": [
       "      userId  movieId  rating   timestamp\n",
       "3297      28      185     1.0   834093021\n",
       "3298      28      196     1.0   834093089\n",
       "3302      28      266     1.0   834093066\n",
       "3315      28      417     1.0   834092871\n",
       "3323      28      590     1.0   834092660\n",
       "3434      29      371     1.0   835638228\n",
       "3504      30      163     1.0  1204791725\n",
       "3505      30      168     0.5  1204791801\n",
       "3510      30      555     1.5  1204791757\n",
       "3538      31      527     0.5  1424733598"
      ]
     },
     "execution_count": 15,
     "metadata": {},
     "output_type": "execute_result"
    }
   ],
   "source": [
    "#I want to see those horrendously bad ratigs\n",
    "bad_film_ratings = ratings[negative_ratings]\n",
    "bad_film_ratings[105:115]"
   ]
  },
  {
   "cell_type": "code",
   "execution_count": 16,
   "metadata": {},
   "outputs": [],
   "source": [
    "#Let's sum up the bad ratings for the movies\n",
    "number_of_bad_ratings = bad_film_ratings.groupby(by = \"movieId\")['rating'].count()\n",
    "sum_of_bad_ratings = bad_film_ratings.groupby(by = \"movieId\")['rating'].sum()"
   ]
  },
  {
   "cell_type": "code",
   "execution_count": 17,
   "metadata": {},
   "outputs": [
    {
     "data": {
      "text/plain": [
       "movieId\n",
       "1          274\n",
       "2          419\n",
       "3          280\n",
       "4          106\n",
       "5          290\n",
       "6          102\n",
       "7          175\n",
       "8           22\n",
       "9          111\n",
       "10         246\n",
       "11         104\n",
       "12         225\n",
       "13          26\n",
       "14          69\n",
       "15         146\n",
       "16          78\n",
       "17         148\n",
       "18         115\n",
       "19        1420\n",
       "20         116\n",
       "21         218\n",
       "22         131\n",
       "23          79\n",
       "24         191\n",
       "25         301\n",
       "26          22\n",
       "27          17\n",
       "28          15\n",
       "29          80\n",
       "30          12\n",
       "          ... \n",
       "128632       1\n",
       "128736       1\n",
       "128914       1\n",
       "128975       2\n",
       "129015       1\n",
       "129030       2\n",
       "129354       2\n",
       "129370       1\n",
       "129428       1\n",
       "129456       1\n",
       "129514       1\n",
       "129699       1\n",
       "129707       1\n",
       "129822       1\n",
       "129834       1\n",
       "129937       1\n",
       "130052       1\n",
       "130075       2\n",
       "130466       1\n",
       "130490       2\n",
       "130496       1\n",
       "130498       1\n",
       "130500       1\n",
       "130502       1\n",
       "130506       1\n",
       "130508       1\n",
       "130510       1\n",
       "130672       1\n",
       "130804       1\n",
       "130836       1\n",
       "Name: rating, Length: 13088, dtype: int64"
      ]
     },
     "execution_count": 17,
     "metadata": {},
     "output_type": "execute_result"
    }
   ],
   "source": [
    "number_of_bad_ratings\n",
    "#sum_of_bad_ratings # Uncomment this line to see the total negative weight"
   ]
  },
  {
   "cell_type": "code",
   "execution_count": 18,
   "metadata": {},
   "outputs": [
    {
     "name": "stdout",
     "output_type": "stream",
     "text": [
      "movieId\n",
      "1    23501.5\n",
      "2     2988.0\n",
      "3     1827.5\n",
      "4      345.0\n",
      "5     1477.0\n",
      "Name: rating, dtype: float64\n",
      "movieId\n",
      "1    282.0\n",
      "2    452.5\n",
      "3    284.5\n",
      "4    108.0\n",
      "5    285.5\n",
      "Name: rating, dtype: float64\n"
     ]
    }
   ],
   "source": [
    "# Let's turn the sums into a combined score that expresses the overall quality, so to say, \n",
    "# of each movie based on the most positive and most negative ratings\n",
    "print(sum_of_excellent_ratings.head())\n",
    "print(sum_of_bad_ratings.head())"
   ]
  },
  {
   "cell_type": "code",
   "execution_count": 19,
   "metadata": {},
   "outputs": [
    {
     "data": {
      "text/html": [
       "<div>\n",
       "<style scoped>\n",
       "    .dataframe tbody tr th:only-of-type {\n",
       "        vertical-align: middle;\n",
       "    }\n",
       "\n",
       "    .dataframe tbody tr th {\n",
       "        vertical-align: top;\n",
       "    }\n",
       "\n",
       "    .dataframe thead th {\n",
       "        text-align: right;\n",
       "    }\n",
       "</style>\n",
       "<table border=\"1\" class=\"dataframe\">\n",
       "  <thead>\n",
       "    <tr style=\"text-align: right;\">\n",
       "      <th></th>\n",
       "      <th>rating</th>\n",
       "    </tr>\n",
       "    <tr>\n",
       "      <th>movieId</th>\n",
       "      <th></th>\n",
       "    </tr>\n",
       "  </thead>\n",
       "  <tbody>\n",
       "    <tr>\n",
       "      <th>1</th>\n",
       "      <td>23219.5</td>\n",
       "    </tr>\n",
       "    <tr>\n",
       "      <th>2</th>\n",
       "      <td>2535.5</td>\n",
       "    </tr>\n",
       "    <tr>\n",
       "      <th>3</th>\n",
       "      <td>1543.0</td>\n",
       "    </tr>\n",
       "    <tr>\n",
       "      <th>4</th>\n",
       "      <td>237.0</td>\n",
       "    </tr>\n",
       "    <tr>\n",
       "      <th>5</th>\n",
       "      <td>1191.5</td>\n",
       "    </tr>\n",
       "  </tbody>\n",
       "</table>\n",
       "</div>"
      ],
      "text/plain": [
       "          rating\n",
       "movieId         \n",
       "1        23219.5\n",
       "2         2535.5\n",
       "3         1543.0\n",
       "4          237.0\n",
       "5         1191.5"
      ]
     },
     "execution_count": 19,
     "metadata": {},
     "output_type": "execute_result"
    }
   ],
   "source": [
    "#Let's leave mediocrity behind.\n",
    "# A truly wonderful movie is defined by the weight of outstanding reviews\n",
    "# at least for my purposes \n",
    "quality_score = sum_of_excellent_ratings - sum_of_bad_ratings \n",
    "\n",
    "qs = quality_score.to_frame()\n",
    "qs.head()"
   ]
  },
  {
   "cell_type": "code",
   "execution_count": 20,
   "metadata": {},
   "outputs": [
    {
     "data": {
      "text/html": [
       "<div>\n",
       "<style scoped>\n",
       "    .dataframe tbody tr th:only-of-type {\n",
       "        vertical-align: middle;\n",
       "    }\n",
       "\n",
       "    .dataframe tbody tr th {\n",
       "        vertical-align: top;\n",
       "    }\n",
       "\n",
       "    .dataframe thead th {\n",
       "        text-align: right;\n",
       "    }\n",
       "</style>\n",
       "<table border=\"1\" class=\"dataframe\">\n",
       "  <thead>\n",
       "    <tr style=\"text-align: right;\">\n",
       "      <th></th>\n",
       "      <th>Quality_Score</th>\n",
       "    </tr>\n",
       "    <tr>\n",
       "      <th>movieId</th>\n",
       "      <th></th>\n",
       "    </tr>\n",
       "  </thead>\n",
       "  <tbody>\n",
       "    <tr>\n",
       "      <th>1</th>\n",
       "      <td>23219.5</td>\n",
       "    </tr>\n",
       "    <tr>\n",
       "      <th>2</th>\n",
       "      <td>2535.5</td>\n",
       "    </tr>\n",
       "    <tr>\n",
       "      <th>3</th>\n",
       "      <td>1543.0</td>\n",
       "    </tr>\n",
       "    <tr>\n",
       "      <th>4</th>\n",
       "      <td>237.0</td>\n",
       "    </tr>\n",
       "    <tr>\n",
       "      <th>5</th>\n",
       "      <td>1191.5</td>\n",
       "    </tr>\n",
       "  </tbody>\n",
       "</table>\n",
       "</div>"
      ],
      "text/plain": [
       "         Quality_Score\n",
       "movieId               \n",
       "1              23219.5\n",
       "2               2535.5\n",
       "3               1543.0\n",
       "4                237.0\n",
       "5               1191.5"
      ]
     },
     "execution_count": 20,
     "metadata": {},
     "output_type": "execute_result"
    }
   ],
   "source": [
    "qs = qs.rename(columns={\"rating\":\"Quality_Score\"})\n",
    "qs.head()"
   ]
  },
  {
   "cell_type": "code",
   "execution_count": 21,
   "metadata": {},
   "outputs": [],
   "source": [
    "#Let's get the movies together with their awesomeness scores\n",
    "ratings_with_quality_score = movies.merge(qs, on=\"movieId\", how=\"left\")"
   ]
  },
  {
   "cell_type": "code",
   "execution_count": 22,
   "metadata": {},
   "outputs": [
    {
     "data": {
      "text/html": [
       "<div>\n",
       "<style scoped>\n",
       "    .dataframe tbody tr th:only-of-type {\n",
       "        vertical-align: middle;\n",
       "    }\n",
       "\n",
       "    .dataframe tbody tr th {\n",
       "        vertical-align: top;\n",
       "    }\n",
       "\n",
       "    .dataframe thead th {\n",
       "        text-align: right;\n",
       "    }\n",
       "</style>\n",
       "<table border=\"1\" class=\"dataframe\">\n",
       "  <thead>\n",
       "    <tr style=\"text-align: right;\">\n",
       "      <th></th>\n",
       "      <th>movieId</th>\n",
       "      <th>title</th>\n",
       "      <th>genres</th>\n",
       "      <th>Quality_Score</th>\n",
       "    </tr>\n",
       "  </thead>\n",
       "  <tbody>\n",
       "    <tr>\n",
       "      <th>0</th>\n",
       "      <td>1</td>\n",
       "      <td>Toy Story (1995)</td>\n",
       "      <td>Adventure|Animation|Children|Comedy|Fantasy</td>\n",
       "      <td>23219.5</td>\n",
       "    </tr>\n",
       "    <tr>\n",
       "      <th>1</th>\n",
       "      <td>2</td>\n",
       "      <td>Jumanji (1995)</td>\n",
       "      <td>Adventure|Children|Fantasy</td>\n",
       "      <td>2535.5</td>\n",
       "    </tr>\n",
       "    <tr>\n",
       "      <th>2</th>\n",
       "      <td>3</td>\n",
       "      <td>Grumpier Old Men (1995)</td>\n",
       "      <td>Comedy|Romance</td>\n",
       "      <td>1543.0</td>\n",
       "    </tr>\n",
       "    <tr>\n",
       "      <th>3</th>\n",
       "      <td>4</td>\n",
       "      <td>Waiting to Exhale (1995)</td>\n",
       "      <td>Comedy|Drama|Romance</td>\n",
       "      <td>237.0</td>\n",
       "    </tr>\n",
       "    <tr>\n",
       "      <th>4</th>\n",
       "      <td>5</td>\n",
       "      <td>Father of the Bride Part II (1995)</td>\n",
       "      <td>Comedy</td>\n",
       "      <td>1191.5</td>\n",
       "    </tr>\n",
       "  </tbody>\n",
       "</table>\n",
       "</div>"
      ],
      "text/plain": [
       "   movieId                               title  \\\n",
       "0        1                    Toy Story (1995)   \n",
       "1        2                      Jumanji (1995)   \n",
       "2        3             Grumpier Old Men (1995)   \n",
       "3        4            Waiting to Exhale (1995)   \n",
       "4        5  Father of the Bride Part II (1995)   \n",
       "\n",
       "                                        genres  Quality_Score  \n",
       "0  Adventure|Animation|Children|Comedy|Fantasy        23219.5  \n",
       "1                   Adventure|Children|Fantasy         2535.5  \n",
       "2                               Comedy|Romance         1543.0  \n",
       "3                         Comedy|Drama|Romance          237.0  \n",
       "4                                       Comedy         1191.5  "
      ]
     },
     "execution_count": 22,
     "metadata": {},
     "output_type": "execute_result"
    }
   ],
   "source": [
    "ratings_with_quality_score.head()"
   ]
  },
  {
   "cell_type": "code",
   "execution_count": 23,
   "metadata": {
    "scrolled": true
   },
   "outputs": [
    {
     "data": {
      "text/html": [
       "<div>\n",
       "<style scoped>\n",
       "    .dataframe tbody tr th:only-of-type {\n",
       "        vertical-align: middle;\n",
       "    }\n",
       "\n",
       "    .dataframe tbody tr th {\n",
       "        vertical-align: top;\n",
       "    }\n",
       "\n",
       "    .dataframe thead th {\n",
       "        text-align: right;\n",
       "    }\n",
       "</style>\n",
       "<table border=\"1\" class=\"dataframe\">\n",
       "  <thead>\n",
       "    <tr style=\"text-align: right;\">\n",
       "      <th></th>\n",
       "      <th>movieId</th>\n",
       "      <th>title</th>\n",
       "      <th>genres</th>\n",
       "      <th>Quality_Score</th>\n",
       "    </tr>\n",
       "  </thead>\n",
       "  <tbody>\n",
       "    <tr>\n",
       "      <th>315</th>\n",
       "      <td>318</td>\n",
       "      <td>Shawshank Redemption, The (1994)</td>\n",
       "      <td>Crime|Drama</td>\n",
       "      <td>59721.5</td>\n",
       "    </tr>\n",
       "    <tr>\n",
       "      <th>293</th>\n",
       "      <td>296</td>\n",
       "      <td>Pulp Fiction (1994)</td>\n",
       "      <td>Comedy|Crime|Drama|Thriller</td>\n",
       "      <td>50944.0</td>\n",
       "    </tr>\n",
       "    <tr>\n",
       "      <th>587</th>\n",
       "      <td>593</td>\n",
       "      <td>Silence of the Lambs, The (1991)</td>\n",
       "      <td>Crime|Horror|Thriller</td>\n",
       "      <td>42472.5</td>\n",
       "    </tr>\n",
       "    <tr>\n",
       "      <th>523</th>\n",
       "      <td>527</td>\n",
       "      <td>Schindler's List (1993)</td>\n",
       "      <td>Drama|War</td>\n",
       "      <td>41443.0</td>\n",
       "    </tr>\n",
       "    <tr>\n",
       "      <th>352</th>\n",
       "      <td>356</td>\n",
       "      <td>Forrest Gump (1994)</td>\n",
       "      <td>Comedy|Drama|Romance|War</td>\n",
       "      <td>40297.0</td>\n",
       "    </tr>\n",
       "    <tr>\n",
       "      <th>257</th>\n",
       "      <td>260</td>\n",
       "      <td>Star Wars: Episode IV - A New Hope (1977)</td>\n",
       "      <td>Action|Adventure|Sci-Fi</td>\n",
       "      <td>40294.5</td>\n",
       "    </tr>\n",
       "    <tr>\n",
       "      <th>49</th>\n",
       "      <td>50</td>\n",
       "      <td>Usual Suspects, The (1995)</td>\n",
       "      <td>Crime|Mystery|Thriller</td>\n",
       "      <td>39580.5</td>\n",
       "    </tr>\n",
       "    <tr>\n",
       "      <th>2486</th>\n",
       "      <td>2571</td>\n",
       "      <td>Matrix, The (1999)</td>\n",
       "      <td>Action|Sci-Fi|Thriller</td>\n",
       "      <td>38372.5</td>\n",
       "    </tr>\n",
       "    <tr>\n",
       "      <th>843</th>\n",
       "      <td>858</td>\n",
       "      <td>Godfather, The (1972)</td>\n",
       "      <td>Crime|Drama</td>\n",
       "      <td>37075.5</td>\n",
       "    </tr>\n",
       "    <tr>\n",
       "      <th>108</th>\n",
       "      <td>110</td>\n",
       "      <td>Braveheart (1995)</td>\n",
       "      <td>Action|Drama|War</td>\n",
       "      <td>33137.0</td>\n",
       "    </tr>\n",
       "    <tr>\n",
       "      <th>1171</th>\n",
       "      <td>1196</td>\n",
       "      <td>Star Wars: Episode V - The Empire Strikes Back...</td>\n",
       "      <td>Action|Adventure|Sci-Fi</td>\n",
       "      <td>32355.5</td>\n",
       "    </tr>\n",
       "    <tr>\n",
       "      <th>2873</th>\n",
       "      <td>2959</td>\n",
       "      <td>Fight Club (1999)</td>\n",
       "      <td>Action|Crime|Drama|Thriller</td>\n",
       "      <td>31967.5</td>\n",
       "    </tr>\n",
       "    <tr>\n",
       "      <th>2772</th>\n",
       "      <td>2858</td>\n",
       "      <td>American Beauty (1999)</td>\n",
       "      <td>Comedy|Drama</td>\n",
       "      <td>31545.0</td>\n",
       "    </tr>\n",
       "    <tr>\n",
       "      <th>1173</th>\n",
       "      <td>1198</td>\n",
       "      <td>Raiders of the Lost Ark (Indiana Jones and the...</td>\n",
       "      <td>Action|Adventure</td>\n",
       "      <td>30679.5</td>\n",
       "    </tr>\n",
       "    <tr>\n",
       "      <th>602</th>\n",
       "      <td>608</td>\n",
       "      <td>Fargo (1996)</td>\n",
       "      <td>Comedy|Crime|Drama|Thriller</td>\n",
       "      <td>28341.5</td>\n",
       "    </tr>\n",
       "    <tr>\n",
       "      <th>4897</th>\n",
       "      <td>4993</td>\n",
       "      <td>Lord of the Rings: The Fellowship of the Ring,...</td>\n",
       "      <td>Adventure|Fantasy</td>\n",
       "      <td>28027.0</td>\n",
       "    </tr>\n",
       "    <tr>\n",
       "      <th>1184</th>\n",
       "      <td>1210</td>\n",
       "      <td>Star Wars: Episode VI - Return of the Jedi (1983)</td>\n",
       "      <td>Action|Adventure|Sci-Fi</td>\n",
       "      <td>25983.5</td>\n",
       "    </tr>\n",
       "    <tr>\n",
       "      <th>583</th>\n",
       "      <td>589</td>\n",
       "      <td>Terminator 2: Judgment Day (1991)</td>\n",
       "      <td>Action|Sci-Fi</td>\n",
       "      <td>25691.0</td>\n",
       "    </tr>\n",
       "    <tr>\n",
       "      <th>46</th>\n",
       "      <td>47</td>\n",
       "      <td>Seven (a.k.a. Se7en) (1995)</td>\n",
       "      <td>Mystery|Thriller</td>\n",
       "      <td>25615.0</td>\n",
       "    </tr>\n",
       "    <tr>\n",
       "      <th>5853</th>\n",
       "      <td>5952</td>\n",
       "      <td>Lord of the Rings: The Two Towers, The (2002)</td>\n",
       "      <td>Adventure|Fantasy</td>\n",
       "      <td>24135.5</td>\n",
       "    </tr>\n",
       "    <tr>\n",
       "      <th>7041</th>\n",
       "      <td>7153</td>\n",
       "      <td>Lord of the Rings: The Return of the King, The...</td>\n",
       "      <td>Action|Adventure|Drama|Fantasy</td>\n",
       "      <td>23765.0</td>\n",
       "    </tr>\n",
       "    <tr>\n",
       "      <th>1113</th>\n",
       "      <td>1136</td>\n",
       "      <td>Monty Python and the Holy Grail (1975)</td>\n",
       "      <td>Adventure|Comedy|Fantasy</td>\n",
       "      <td>23627.5</td>\n",
       "    </tr>\n",
       "    <tr>\n",
       "      <th>1172</th>\n",
       "      <td>1197</td>\n",
       "      <td>Princess Bride, The (1987)</td>\n",
       "      <td>Action|Adventure|Comedy|Fantasy|Romance</td>\n",
       "      <td>23388.0</td>\n",
       "    </tr>\n",
       "    <tr>\n",
       "      <th>1944</th>\n",
       "      <td>2028</td>\n",
       "      <td>Saving Private Ryan (1998)</td>\n",
       "      <td>Action|Drama|War</td>\n",
       "      <td>23225.0</td>\n",
       "    </tr>\n",
       "    <tr>\n",
       "      <th>0</th>\n",
       "      <td>1</td>\n",
       "      <td>Toy Story (1995)</td>\n",
       "      <td>Adventure|Animation|Children|Comedy|Fantasy</td>\n",
       "      <td>23219.5</td>\n",
       "    </tr>\n",
       "    <tr>\n",
       "      <th>2676</th>\n",
       "      <td>2762</td>\n",
       "      <td>Sixth Sense, The (1999)</td>\n",
       "      <td>Drama|Horror|Mystery</td>\n",
       "      <td>22426.0</td>\n",
       "    </tr>\n",
       "    <tr>\n",
       "      <th>1195</th>\n",
       "      <td>1221</td>\n",
       "      <td>Godfather: Part II, The (1974)</td>\n",
       "      <td>Crime|Drama</td>\n",
       "      <td>22096.0</td>\n",
       "    </tr>\n",
       "    <tr>\n",
       "      <th>4132</th>\n",
       "      <td>4226</td>\n",
       "      <td>Memento (2000)</td>\n",
       "      <td>Mystery|Thriller</td>\n",
       "      <td>21889.5</td>\n",
       "    </tr>\n",
       "    <tr>\n",
       "      <th>1169</th>\n",
       "      <td>1193</td>\n",
       "      <td>One Flew Over the Cuckoo's Nest (1975)</td>\n",
       "      <td>Drama</td>\n",
       "      <td>21864.5</td>\n",
       "    </tr>\n",
       "    <tr>\n",
       "      <th>453</th>\n",
       "      <td>457</td>\n",
       "      <td>Fugitive, The (1993)</td>\n",
       "      <td>Thriller</td>\n",
       "      <td>21135.0</td>\n",
       "    </tr>\n",
       "    <tr>\n",
       "      <th>...</th>\n",
       "      <td>...</td>\n",
       "      <td>...</td>\n",
       "      <td>...</td>\n",
       "      <td>...</td>\n",
       "    </tr>\n",
       "    <tr>\n",
       "      <th>1518</th>\n",
       "      <td>1569</td>\n",
       "      <td>My Best Friend's Wedding (1997)</td>\n",
       "      <td>Comedy|Romance</td>\n",
       "      <td>1295.5</td>\n",
       "    </tr>\n",
       "    <tr>\n",
       "      <th>1000</th>\n",
       "      <td>1019</td>\n",
       "      <td>20,000 Leagues Under the Sea (1954)</td>\n",
       "      <td>Adventure|Drama|Sci-Fi</td>\n",
       "      <td>1293.5</td>\n",
       "    </tr>\n",
       "    <tr>\n",
       "      <th>2456</th>\n",
       "      <td>2541</td>\n",
       "      <td>Cruel Intentions (1999)</td>\n",
       "      <td>Drama</td>\n",
       "      <td>1293.0</td>\n",
       "    </tr>\n",
       "    <tr>\n",
       "      <th>1071</th>\n",
       "      <td>1093</td>\n",
       "      <td>Doors, The (1991)</td>\n",
       "      <td>Drama</td>\n",
       "      <td>1291.5</td>\n",
       "    </tr>\n",
       "    <tr>\n",
       "      <th>12112</th>\n",
       "      <td>55118</td>\n",
       "      <td>Eastern Promises (2007)</td>\n",
       "      <td>Crime|Drama|Thriller</td>\n",
       "      <td>1290.0</td>\n",
       "    </tr>\n",
       "    <tr>\n",
       "      <th>11133</th>\n",
       "      <td>46723</td>\n",
       "      <td>Babel (2006)</td>\n",
       "      <td>Drama|Thriller</td>\n",
       "      <td>1289.0</td>\n",
       "    </tr>\n",
       "    <tr>\n",
       "      <th>438</th>\n",
       "      <td>442</td>\n",
       "      <td>Demolition Man (1993)</td>\n",
       "      <td>Action|Adventure|Sci-Fi</td>\n",
       "      <td>1288.5</td>\n",
       "    </tr>\n",
       "    <tr>\n",
       "      <th>68</th>\n",
       "      <td>69</td>\n",
       "      <td>Friday (1995)</td>\n",
       "      <td>Comedy</td>\n",
       "      <td>1288.0</td>\n",
       "    </tr>\n",
       "    <tr>\n",
       "      <th>3517</th>\n",
       "      <td>3608</td>\n",
       "      <td>Pee-wee's Big Adventure (1985)</td>\n",
       "      <td>Adventure|Comedy</td>\n",
       "      <td>1286.5</td>\n",
       "    </tr>\n",
       "    <tr>\n",
       "      <th>1635</th>\n",
       "      <td>1693</td>\n",
       "      <td>Amistad (1997)</td>\n",
       "      <td>Drama|Mystery</td>\n",
       "      <td>1280.0</td>\n",
       "    </tr>\n",
       "    <tr>\n",
       "      <th>4050</th>\n",
       "      <td>4144</td>\n",
       "      <td>In the Mood For Love (Fa yeung nin wa) (2000)</td>\n",
       "      <td>Drama|Romance</td>\n",
       "      <td>1278.5</td>\n",
       "    </tr>\n",
       "    <tr>\n",
       "      <th>1314</th>\n",
       "      <td>1344</td>\n",
       "      <td>Cape Fear (1962)</td>\n",
       "      <td>Crime|Drama|Thriller</td>\n",
       "      <td>1275.5</td>\n",
       "    </tr>\n",
       "    <tr>\n",
       "      <th>22880</th>\n",
       "      <td>109374</td>\n",
       "      <td>Grand Budapest Hotel, The (2014)</td>\n",
       "      <td>Comedy|Drama</td>\n",
       "      <td>1271.5</td>\n",
       "    </tr>\n",
       "    <tr>\n",
       "      <th>2092</th>\n",
       "      <td>2176</td>\n",
       "      <td>Rope (1948)</td>\n",
       "      <td>Crime|Drama|Thriller</td>\n",
       "      <td>1270.5</td>\n",
       "    </tr>\n",
       "    <tr>\n",
       "      <th>8231</th>\n",
       "      <td>8914</td>\n",
       "      <td>Primer (2004)</td>\n",
       "      <td>Drama|Sci-Fi</td>\n",
       "      <td>1269.5</td>\n",
       "    </tr>\n",
       "    <tr>\n",
       "      <th>3650</th>\n",
       "      <td>3741</td>\n",
       "      <td>Badlands (1973)</td>\n",
       "      <td>Crime|Drama|Thriller</td>\n",
       "      <td>1267.5</td>\n",
       "    </tr>\n",
       "    <tr>\n",
       "      <th>372</th>\n",
       "      <td>376</td>\n",
       "      <td>River Wild, The (1994)</td>\n",
       "      <td>Action|Thriller</td>\n",
       "      <td>1265.5</td>\n",
       "    </tr>\n",
       "    <tr>\n",
       "      <th>6184</th>\n",
       "      <td>6283</td>\n",
       "      <td>Cowboy Bebop: The Movie (Cowboy Bebop: Tengoku...</td>\n",
       "      <td>Action|Animation|Sci-Fi|Thriller</td>\n",
       "      <td>1265.5</td>\n",
       "    </tr>\n",
       "    <tr>\n",
       "      <th>1919</th>\n",
       "      <td>2003</td>\n",
       "      <td>Gremlins (1984)</td>\n",
       "      <td>Comedy|Horror</td>\n",
       "      <td>1263.0</td>\n",
       "    </tr>\n",
       "    <tr>\n",
       "      <th>10631</th>\n",
       "      <td>41285</td>\n",
       "      <td>Match Point (2005)</td>\n",
       "      <td>Crime|Drama|Romance</td>\n",
       "      <td>1257.5</td>\n",
       "    </tr>\n",
       "    <tr>\n",
       "      <th>10377</th>\n",
       "      <td>36517</td>\n",
       "      <td>Constant Gardener, The (2005)</td>\n",
       "      <td>Drama|Thriller</td>\n",
       "      <td>1257.0</td>\n",
       "    </tr>\n",
       "    <tr>\n",
       "      <th>2218</th>\n",
       "      <td>2303</td>\n",
       "      <td>Nashville (1975)</td>\n",
       "      <td>Drama|Musical</td>\n",
       "      <td>1256.5</td>\n",
       "    </tr>\n",
       "    <tr>\n",
       "      <th>3278</th>\n",
       "      <td>3365</td>\n",
       "      <td>Searchers, The (1956)</td>\n",
       "      <td>Drama|Western</td>\n",
       "      <td>1253.5</td>\n",
       "    </tr>\n",
       "    <tr>\n",
       "      <th>2980</th>\n",
       "      <td>3067</td>\n",
       "      <td>Women on the Verge of a Nervous Breakdown (Muj...</td>\n",
       "      <td>Comedy|Drama</td>\n",
       "      <td>1253.0</td>\n",
       "    </tr>\n",
       "    <tr>\n",
       "      <th>3099</th>\n",
       "      <td>3186</td>\n",
       "      <td>Girl, Interrupted (1999)</td>\n",
       "      <td>Drama</td>\n",
       "      <td>1246.0</td>\n",
       "    </tr>\n",
       "    <tr>\n",
       "      <th>2309</th>\n",
       "      <td>2394</td>\n",
       "      <td>Prince of Egypt, The (1998)</td>\n",
       "      <td>Animation|Musical</td>\n",
       "      <td>1244.5</td>\n",
       "    </tr>\n",
       "    <tr>\n",
       "      <th>11692</th>\n",
       "      <td>51540</td>\n",
       "      <td>Zodiac (2007)</td>\n",
       "      <td>Crime|Drama|Thriller</td>\n",
       "      <td>1242.5</td>\n",
       "    </tr>\n",
       "    <tr>\n",
       "      <th>4476</th>\n",
       "      <td>4571</td>\n",
       "      <td>Bill &amp; Ted's Excellent Adventure (1989)</td>\n",
       "      <td>Adventure|Comedy|Sci-Fi</td>\n",
       "      <td>1236.5</td>\n",
       "    </tr>\n",
       "    <tr>\n",
       "      <th>10435</th>\n",
       "      <td>37741</td>\n",
       "      <td>Capote (2005)</td>\n",
       "      <td>Crime|Drama</td>\n",
       "      <td>1229.5</td>\n",
       "    </tr>\n",
       "    <tr>\n",
       "      <th>121</th>\n",
       "      <td>123</td>\n",
       "      <td>Chungking Express (Chung Hing sam lam) (1994)</td>\n",
       "      <td>Drama|Mystery|Romance</td>\n",
       "      <td>1228.0</td>\n",
       "    </tr>\n",
       "  </tbody>\n",
       "</table>\n",
       "<p>1000 rows × 4 columns</p>\n",
       "</div>"
      ],
      "text/plain": [
       "       movieId                                              title  \\\n",
       "315        318                   Shawshank Redemption, The (1994)   \n",
       "293        296                                Pulp Fiction (1994)   \n",
       "587        593                   Silence of the Lambs, The (1991)   \n",
       "523        527                            Schindler's List (1993)   \n",
       "352        356                                Forrest Gump (1994)   \n",
       "257        260          Star Wars: Episode IV - A New Hope (1977)   \n",
       "49          50                         Usual Suspects, The (1995)   \n",
       "2486      2571                                 Matrix, The (1999)   \n",
       "843        858                              Godfather, The (1972)   \n",
       "108        110                                  Braveheart (1995)   \n",
       "1171      1196  Star Wars: Episode V - The Empire Strikes Back...   \n",
       "2873      2959                                  Fight Club (1999)   \n",
       "2772      2858                             American Beauty (1999)   \n",
       "1173      1198  Raiders of the Lost Ark (Indiana Jones and the...   \n",
       "602        608                                       Fargo (1996)   \n",
       "4897      4993  Lord of the Rings: The Fellowship of the Ring,...   \n",
       "1184      1210  Star Wars: Episode VI - Return of the Jedi (1983)   \n",
       "583        589                  Terminator 2: Judgment Day (1991)   \n",
       "46          47                        Seven (a.k.a. Se7en) (1995)   \n",
       "5853      5952      Lord of the Rings: The Two Towers, The (2002)   \n",
       "7041      7153  Lord of the Rings: The Return of the King, The...   \n",
       "1113      1136             Monty Python and the Holy Grail (1975)   \n",
       "1172      1197                         Princess Bride, The (1987)   \n",
       "1944      2028                         Saving Private Ryan (1998)   \n",
       "0            1                                   Toy Story (1995)   \n",
       "2676      2762                            Sixth Sense, The (1999)   \n",
       "1195      1221                     Godfather: Part II, The (1974)   \n",
       "4132      4226                                     Memento (2000)   \n",
       "1169      1193             One Flew Over the Cuckoo's Nest (1975)   \n",
       "453        457                               Fugitive, The (1993)   \n",
       "...        ...                                                ...   \n",
       "1518      1569                    My Best Friend's Wedding (1997)   \n",
       "1000      1019                20,000 Leagues Under the Sea (1954)   \n",
       "2456      2541                            Cruel Intentions (1999)   \n",
       "1071      1093                                  Doors, The (1991)   \n",
       "12112    55118                            Eastern Promises (2007)   \n",
       "11133    46723                                       Babel (2006)   \n",
       "438        442                              Demolition Man (1993)   \n",
       "68          69                                      Friday (1995)   \n",
       "3517      3608                     Pee-wee's Big Adventure (1985)   \n",
       "1635      1693                                     Amistad (1997)   \n",
       "4050      4144      In the Mood For Love (Fa yeung nin wa) (2000)   \n",
       "1314      1344                                   Cape Fear (1962)   \n",
       "22880   109374                   Grand Budapest Hotel, The (2014)   \n",
       "2092      2176                                        Rope (1948)   \n",
       "8231      8914                                      Primer (2004)   \n",
       "3650      3741                                    Badlands (1973)   \n",
       "372        376                             River Wild, The (1994)   \n",
       "6184      6283  Cowboy Bebop: The Movie (Cowboy Bebop: Tengoku...   \n",
       "1919      2003                                    Gremlins (1984)   \n",
       "10631    41285                                 Match Point (2005)   \n",
       "10377    36517                      Constant Gardener, The (2005)   \n",
       "2218      2303                                   Nashville (1975)   \n",
       "3278      3365                              Searchers, The (1956)   \n",
       "2980      3067  Women on the Verge of a Nervous Breakdown (Muj...   \n",
       "3099      3186                           Girl, Interrupted (1999)   \n",
       "2309      2394                        Prince of Egypt, The (1998)   \n",
       "11692    51540                                      Zodiac (2007)   \n",
       "4476      4571            Bill & Ted's Excellent Adventure (1989)   \n",
       "10435    37741                                      Capote (2005)   \n",
       "121        123      Chungking Express (Chung Hing sam lam) (1994)   \n",
       "\n",
       "                                            genres  Quality_Score  \n",
       "315                                    Crime|Drama        59721.5  \n",
       "293                    Comedy|Crime|Drama|Thriller        50944.0  \n",
       "587                          Crime|Horror|Thriller        42472.5  \n",
       "523                                      Drama|War        41443.0  \n",
       "352                       Comedy|Drama|Romance|War        40297.0  \n",
       "257                        Action|Adventure|Sci-Fi        40294.5  \n",
       "49                          Crime|Mystery|Thriller        39580.5  \n",
       "2486                        Action|Sci-Fi|Thriller        38372.5  \n",
       "843                                    Crime|Drama        37075.5  \n",
       "108                               Action|Drama|War        33137.0  \n",
       "1171                       Action|Adventure|Sci-Fi        32355.5  \n",
       "2873                   Action|Crime|Drama|Thriller        31967.5  \n",
       "2772                                  Comedy|Drama        31545.0  \n",
       "1173                              Action|Adventure        30679.5  \n",
       "602                    Comedy|Crime|Drama|Thriller        28341.5  \n",
       "4897                             Adventure|Fantasy        28027.0  \n",
       "1184                       Action|Adventure|Sci-Fi        25983.5  \n",
       "583                                  Action|Sci-Fi        25691.0  \n",
       "46                                Mystery|Thriller        25615.0  \n",
       "5853                             Adventure|Fantasy        24135.5  \n",
       "7041                Action|Adventure|Drama|Fantasy        23765.0  \n",
       "1113                      Adventure|Comedy|Fantasy        23627.5  \n",
       "1172       Action|Adventure|Comedy|Fantasy|Romance        23388.0  \n",
       "1944                              Action|Drama|War        23225.0  \n",
       "0      Adventure|Animation|Children|Comedy|Fantasy        23219.5  \n",
       "2676                          Drama|Horror|Mystery        22426.0  \n",
       "1195                                   Crime|Drama        22096.0  \n",
       "4132                              Mystery|Thriller        21889.5  \n",
       "1169                                         Drama        21864.5  \n",
       "453                                       Thriller        21135.0  \n",
       "...                                            ...            ...  \n",
       "1518                                Comedy|Romance         1295.5  \n",
       "1000                        Adventure|Drama|Sci-Fi         1293.5  \n",
       "2456                                         Drama         1293.0  \n",
       "1071                                         Drama         1291.5  \n",
       "12112                         Crime|Drama|Thriller         1290.0  \n",
       "11133                               Drama|Thriller         1289.0  \n",
       "438                        Action|Adventure|Sci-Fi         1288.5  \n",
       "68                                          Comedy         1288.0  \n",
       "3517                              Adventure|Comedy         1286.5  \n",
       "1635                                 Drama|Mystery         1280.0  \n",
       "4050                                 Drama|Romance         1278.5  \n",
       "1314                          Crime|Drama|Thriller         1275.5  \n",
       "22880                                 Comedy|Drama         1271.5  \n",
       "2092                          Crime|Drama|Thriller         1270.5  \n",
       "8231                                  Drama|Sci-Fi         1269.5  \n",
       "3650                          Crime|Drama|Thriller         1267.5  \n",
       "372                                Action|Thriller         1265.5  \n",
       "6184              Action|Animation|Sci-Fi|Thriller         1265.5  \n",
       "1919                                 Comedy|Horror         1263.0  \n",
       "10631                          Crime|Drama|Romance         1257.5  \n",
       "10377                               Drama|Thriller         1257.0  \n",
       "2218                                 Drama|Musical         1256.5  \n",
       "3278                                 Drama|Western         1253.5  \n",
       "2980                                  Comedy|Drama         1253.0  \n",
       "3099                                         Drama         1246.0  \n",
       "2309                             Animation|Musical         1244.5  \n",
       "11692                         Crime|Drama|Thriller         1242.5  \n",
       "4476                       Adventure|Comedy|Sci-Fi         1236.5  \n",
       "10435                                  Crime|Drama         1229.5  \n",
       "121                          Drama|Mystery|Romance         1228.0  \n",
       "\n",
       "[1000 rows x 4 columns]"
      ]
     },
     "execution_count": 23,
     "metadata": {},
     "output_type": "execute_result"
    }
   ],
   "source": [
    "#What are the first 1000 highest ranking movies based on the overwhelming positive reviews\n",
    "ratings_with_quality_score.sort_values(by = \"Quality_Score\", ascending=False)[:1000]\n"
   ]
  },
  {
   "cell_type": "code",
   "execution_count": 24,
   "metadata": {},
   "outputs": [],
   "source": [
    "# Let's define a movie as excellent if its positive review weight is \n",
    "# at least 1000 scores higher than its negative weight\n",
    "excellence_score=999\n",
    "ratings_with_quality_score[\"excellent_film\"] = np.where(ratings_with_quality_score[\"Quality_Score\"] > excellence_score, True, False)"
   ]
  },
  {
   "cell_type": "code",
   "execution_count": 25,
   "metadata": {},
   "outputs": [
    {
     "data": {
      "text/html": [
       "<div>\n",
       "<style scoped>\n",
       "    .dataframe tbody tr th:only-of-type {\n",
       "        vertical-align: middle;\n",
       "    }\n",
       "\n",
       "    .dataframe tbody tr th {\n",
       "        vertical-align: top;\n",
       "    }\n",
       "\n",
       "    .dataframe thead th {\n",
       "        text-align: right;\n",
       "    }\n",
       "</style>\n",
       "<table border=\"1\" class=\"dataframe\">\n",
       "  <thead>\n",
       "    <tr style=\"text-align: right;\">\n",
       "      <th></th>\n",
       "      <th>movieId</th>\n",
       "      <th>title</th>\n",
       "      <th>genres</th>\n",
       "      <th>Quality_Score</th>\n",
       "      <th>excellent_film</th>\n",
       "    </tr>\n",
       "  </thead>\n",
       "  <tbody>\n",
       "    <tr>\n",
       "      <th>0</th>\n",
       "      <td>1</td>\n",
       "      <td>Toy Story (1995)</td>\n",
       "      <td>Adventure|Animation|Children|Comedy|Fantasy</td>\n",
       "      <td>23219.5</td>\n",
       "      <td>True</td>\n",
       "    </tr>\n",
       "    <tr>\n",
       "      <th>1</th>\n",
       "      <td>2</td>\n",
       "      <td>Jumanji (1995)</td>\n",
       "      <td>Adventure|Children|Fantasy</td>\n",
       "      <td>2535.5</td>\n",
       "      <td>True</td>\n",
       "    </tr>\n",
       "    <tr>\n",
       "      <th>2</th>\n",
       "      <td>3</td>\n",
       "      <td>Grumpier Old Men (1995)</td>\n",
       "      <td>Comedy|Romance</td>\n",
       "      <td>1543.0</td>\n",
       "      <td>True</td>\n",
       "    </tr>\n",
       "    <tr>\n",
       "      <th>3</th>\n",
       "      <td>4</td>\n",
       "      <td>Waiting to Exhale (1995)</td>\n",
       "      <td>Comedy|Drama|Romance</td>\n",
       "      <td>237.0</td>\n",
       "      <td>False</td>\n",
       "    </tr>\n",
       "    <tr>\n",
       "      <th>4</th>\n",
       "      <td>5</td>\n",
       "      <td>Father of the Bride Part II (1995)</td>\n",
       "      <td>Comedy</td>\n",
       "      <td>1191.5</td>\n",
       "      <td>True</td>\n",
       "    </tr>\n",
       "  </tbody>\n",
       "</table>\n",
       "</div>"
      ],
      "text/plain": [
       "   movieId                               title  \\\n",
       "0        1                    Toy Story (1995)   \n",
       "1        2                      Jumanji (1995)   \n",
       "2        3             Grumpier Old Men (1995)   \n",
       "3        4            Waiting to Exhale (1995)   \n",
       "4        5  Father of the Bride Part II (1995)   \n",
       "\n",
       "                                        genres  Quality_Score  excellent_film  \n",
       "0  Adventure|Animation|Children|Comedy|Fantasy        23219.5            True  \n",
       "1                   Adventure|Children|Fantasy         2535.5            True  \n",
       "2                               Comedy|Romance         1543.0            True  \n",
       "3                         Comedy|Drama|Romance          237.0           False  \n",
       "4                                       Comedy         1191.5            True  "
      ]
     },
     "execution_count": 25,
     "metadata": {},
     "output_type": "execute_result"
    }
   ],
   "source": [
    "ratings_with_quality_score.head()\n",
    "#ratings_with_quality_score.shape\n",
    "#ratings_with_quality_score.tail()"
   ]
  },
  {
   "cell_type": "code",
   "execution_count": 26,
   "metadata": {},
   "outputs": [],
   "source": [
    "stop_words = list(string.punctuation) \n",
    "stop_words += nltk.corpus.stopwords.words(\"english\")\n",
    "stop_words += [\"1\",\"2\",\"3\",\"4\",\"5\",\"6\",\"7\",\"8\",\"9\",\"0\",\"the\",\"The\", \"'s\", \"'re\"]\n",
    "stop_words += [\"1990\",\"1995\",\"1996\",\"1997\",\"1998\",\"1999\",\"1994\",\"1993\",\"1992\",\"1991\"]\n",
    "stop_words += [\"1980\",\"1985\",\"1986\",\"1987\",\"1988\",\"1989\",\"1984\",\"1983\",\"1982\",\"1981\"]\n",
    "stop_words += [\"1950\",\"1955\",\"1956\",\"1957\",\"1958\",\"1959\",\"1954\",\"1953\",\"1952\",\"1951\"]\n",
    "stop_words += [\"1960\",\"1965\",\"1966\",\"1967\",\"1968\",\"1969\",\"1964\",\"1963\",\"1962\",\"1961\"]\n",
    "stop_words += [\"1970\",\"1975\",\"1976\",\"1977\",\"1978\",\"1979\",\"1974\",\"1973\",\"1972\",\"1971\"]\n",
    "stop_words += [\"1940\",\"1945\",\"1946\",\"1947\",\"1948\",\"1949\",\"1944\",\"1943\",\"1942\",\"1941\"]\n",
    "stop_words += [\"1940\",\"1945\",\"1946\",\"1947\",\"1948\",\"1949\",\"1944\",\"1943\",\"1942\",\"1941\"]\n",
    "stop_words += [\"1930\",\"1935\",\"1936\",\"1937\",\"1938\",\"1939\",\"1934\",\"1933\",\"1932\",\"1931\"]\n",
    "stop_words += [\"2000\",\"2005\",\"2006\",\"2007\",\"2008\",\"2009\",\"2004\",\"2003\",\"2002\",\"2001\"]\n",
    "stop_words += [\"2010\",\"2011\",\"2012\",\"2013\",\"2014\",\"2015\",\"2016\",\"2017\",\"2018\",\"2019\"]\n"
   ]
  },
  {
   "cell_type": "code",
   "execution_count": 27,
   "metadata": {},
   "outputs": [],
   "source": [
    "def build_bag_of_words_features_filtered(words):\n",
    "    return {\n",
    "        word:1 for word in words \\\n",
    "        if not word in stop_words}\n"
   ]
  },
  {
   "cell_type": "code",
   "execution_count": 28,
   "metadata": {},
   "outputs": [
    {
     "data": {
      "text/plain": [
       "['1', 'Jumanji', '(', '1995', ')']"
      ]
     },
     "execution_count": 28,
     "metadata": {},
     "output_type": "execute_result"
    }
   ],
   "source": [
    "nltk.word_tokenize(ratings_with_quality_score.iloc[[1]][\"title\"].to_string())\n",
    "#build_bag_of_words_features_filtered(ratings_with_quality_score.iloc[[2]][\"title\"])"
   ]
  },
  {
   "cell_type": "code",
   "execution_count": 29,
   "metadata": {},
   "outputs": [],
   "source": [
    "def tokenize_title(line):\n",
    "    return nltk.word_tokenize(line)"
   ]
  },
  {
   "cell_type": "code",
   "execution_count": 30,
   "metadata": {},
   "outputs": [
    {
     "data": {
      "text/plain": [
       "['1', 'Jumanji', '(', '1995', ')']"
      ]
     },
     "execution_count": 30,
     "metadata": {},
     "output_type": "execute_result"
    }
   ],
   "source": [
    "tokenize_title(ratings_with_quality_score.iloc[[1]][\"title\"].to_string())"
   ]
  },
  {
   "cell_type": "code",
   "execution_count": 31,
   "metadata": {},
   "outputs": [
    {
     "data": {
      "text/html": [
       "<div>\n",
       "<style scoped>\n",
       "    .dataframe tbody tr th:only-of-type {\n",
       "        vertical-align: middle;\n",
       "    }\n",
       "\n",
       "    .dataframe tbody tr th {\n",
       "        vertical-align: top;\n",
       "    }\n",
       "\n",
       "    .dataframe thead th {\n",
       "        text-align: right;\n",
       "    }\n",
       "</style>\n",
       "<table border=\"1\" class=\"dataframe\">\n",
       "  <thead>\n",
       "    <tr style=\"text-align: right;\">\n",
       "      <th></th>\n",
       "      <th>movieId</th>\n",
       "      <th>title</th>\n",
       "      <th>genres</th>\n",
       "      <th>Quality_Score</th>\n",
       "      <th>excellent_film</th>\n",
       "    </tr>\n",
       "  </thead>\n",
       "  <tbody>\n",
       "    <tr>\n",
       "      <th>0</th>\n",
       "      <td>1</td>\n",
       "      <td>Toy Story (1995)</td>\n",
       "      <td>Adventure|Animation|Children|Comedy|Fantasy</td>\n",
       "      <td>23219.5</td>\n",
       "      <td>True</td>\n",
       "    </tr>\n",
       "    <tr>\n",
       "      <th>1</th>\n",
       "      <td>2</td>\n",
       "      <td>Jumanji (1995)</td>\n",
       "      <td>Adventure|Children|Fantasy</td>\n",
       "      <td>2535.5</td>\n",
       "      <td>True</td>\n",
       "    </tr>\n",
       "    <tr>\n",
       "      <th>2</th>\n",
       "      <td>3</td>\n",
       "      <td>Grumpier Old Men (1995)</td>\n",
       "      <td>Comedy|Romance</td>\n",
       "      <td>1543.0</td>\n",
       "      <td>True</td>\n",
       "    </tr>\n",
       "    <tr>\n",
       "      <th>3</th>\n",
       "      <td>4</td>\n",
       "      <td>Waiting to Exhale (1995)</td>\n",
       "      <td>Comedy|Drama|Romance</td>\n",
       "      <td>237.0</td>\n",
       "      <td>False</td>\n",
       "    </tr>\n",
       "    <tr>\n",
       "      <th>4</th>\n",
       "      <td>5</td>\n",
       "      <td>Father of the Bride Part II (1995)</td>\n",
       "      <td>Comedy</td>\n",
       "      <td>1191.5</td>\n",
       "      <td>True</td>\n",
       "    </tr>\n",
       "  </tbody>\n",
       "</table>\n",
       "</div>"
      ],
      "text/plain": [
       "   movieId                               title  \\\n",
       "0        1                    Toy Story (1995)   \n",
       "1        2                      Jumanji (1995)   \n",
       "2        3             Grumpier Old Men (1995)   \n",
       "3        4            Waiting to Exhale (1995)   \n",
       "4        5  Father of the Bride Part II (1995)   \n",
       "\n",
       "                                        genres  Quality_Score  excellent_film  \n",
       "0  Adventure|Animation|Children|Comedy|Fantasy        23219.5            True  \n",
       "1                   Adventure|Children|Fantasy         2535.5            True  \n",
       "2                               Comedy|Romance         1543.0            True  \n",
       "3                         Comedy|Drama|Romance          237.0           False  \n",
       "4                                       Comedy         1191.5            True  "
      ]
     },
     "execution_count": 31,
     "metadata": {},
     "output_type": "execute_result"
    }
   ],
   "source": [
    "def tokenize_and_filter_title(title):\n",
    "    all_words = tokenize_title(title)\n",
    "    filtered_words = build_bag_of_words_features_filtered(all_words)\n",
    "    #print(filtered_words)\n",
    "    return filtered_words\n",
    "\n",
    "for title in ratings_with_quality_score[\"title\"]:\n",
    "    tokenize_and_filter_title(title)\n",
    "    \n",
    "ratings_with_quality_score.head()"
   ]
  },
  {
   "cell_type": "code",
   "execution_count": 32,
   "metadata": {},
   "outputs": [
    {
     "data": {
      "text/plain": [
       "['movieId', 'title', 'genres', 'Quality_Score', 'excellent_film']"
      ]
     },
     "execution_count": 32,
     "metadata": {},
     "output_type": "execute_result"
    }
   ],
   "source": [
    "list(ratings_with_quality_score)\n"
   ]
  },
  {
   "cell_type": "code",
   "execution_count": 33,
   "metadata": {},
   "outputs": [],
   "source": [
    "def create_target_df(ratings_with_quality_score):\n",
    "    data = []\n",
    "    for movie in ratings_with_quality_score.itertuples(index=True, name='title'):\n",
    "        title = getattr(movie, \"title\")\n",
    "        bow = tokenize_and_filter_title(title)\n",
    "        is_excellent = getattr(movie, \"excellent_film\")\n",
    "        data += [(bow,is_excellent)]\n",
    "        \n",
    "    return data\n",
    "\n",
    "\n"
   ]
  },
  {
   "cell_type": "code",
   "execution_count": 34,
   "metadata": {},
   "outputs": [],
   "source": [
    "target = (create_target_df(ratings_with_quality_score))\n",
    "\n",
    "\n"
   ]
  },
  {
   "cell_type": "code",
   "execution_count": 35,
   "metadata": {},
   "outputs": [
    {
     "data": {
      "text/plain": [
       "({'Sudden': 1, 'Death': 1}, False)"
      ]
     },
     "execution_count": 35,
     "metadata": {},
     "output_type": "execute_result"
    }
   ],
   "source": [
    "target[8]"
   ]
  },
  {
   "cell_type": "code",
   "execution_count": 36,
   "metadata": {},
   "outputs": [
    {
     "data": {
      "text/plain": [
       "({'Sudden': 1, 'Death': 1}, False)"
      ]
     },
     "execution_count": 36,
     "metadata": {},
     "output_type": "execute_result"
    }
   ],
   "source": [
    "targetlist = list(target)\n",
    "\n",
    "targetlist[8]"
   ]
  },
  {
   "cell_type": "code",
   "execution_count": 37,
   "metadata": {},
   "outputs": [],
   "source": [
    "from nltk.classify import NaiveBayesClassifier\n",
    "split=10000"
   ]
  },
  {
   "cell_type": "code",
   "execution_count": 38,
   "metadata": {},
   "outputs": [],
   "source": [
    "success_classifier = NaiveBayesClassifier.train(target[:split])"
   ]
  },
  {
   "cell_type": "code",
   "execution_count": 39,
   "metadata": {},
   "outputs": [
    {
     "data": {
      "text/plain": [
       "84.38"
      ]
     },
     "execution_count": 39,
     "metadata": {},
     "output_type": "execute_result"
    }
   ],
   "source": [
    "nltk.classify.util.accuracy(success_classifier, target[:split])*100"
   ]
  },
  {
   "cell_type": "code",
   "execution_count": 40,
   "metadata": {},
   "outputs": [],
   "source": [
    "import random\n",
    "def montecarlo_classifier():\n",
    "    split = random.randint(0,(len(target)-1))\n",
    "    success_classifier = NaiveBayesClassifier.train(target[:split])\n",
    "    accuracy = round(nltk.classify.util.accuracy(success_classifier, target[split:])*100,2)\n",
    "    #print(\"{}{}{}\".format(\"accurary: \",accuracy,\"\\n\\n\"))\n",
    "    #print(\"{}{}\".format(\"split: \",split))\n",
    "    return split,accuracy\n",
    "    "
   ]
  },
  {
   "cell_type": "code",
   "execution_count": 41,
   "metadata": {},
   "outputs": [],
   "source": [
    "def montecarlo_runner(iterations):\n",
    "    perf=[]\n",
    "    for iteration in range(iterations):\n",
    "        perf.append(montecarlo_classifier())\n",
    "        \n",
    "    return perf"
   ]
  },
  {
   "cell_type": "code",
   "execution_count": 42,
   "metadata": {},
   "outputs": [
    {
     "name": "stdout",
     "output_type": "stream",
     "text": [
      "[(6792, 87.13), (26071, 91.3), (1507, 81.26), (8682, 88.66), (17549, 88.88), (13011, 88.48), (17103, 88.84), (2648, 83.06), (18227, 88.3), (8025, 87.95)]\n"
     ]
    }
   ],
   "source": [
    "number_of_runs = 10\n",
    "perf=montecarlo_runner(number_of_runs)\n",
    "print(perf)"
   ]
  },
  {
   "cell_type": "code",
   "execution_count": 43,
   "metadata": {},
   "outputs": [
    {
     "data": {
      "text/plain": [
       "[[81.26, 1507],\n",
       " [83.06, 2648],\n",
       " [87.13, 6792],\n",
       " [87.95, 8025],\n",
       " [88.3, 18227],\n",
       " [88.48, 13011],\n",
       " [88.66, 8682],\n",
       " [88.84, 17103],\n",
       " [88.88, 17549],\n",
       " [91.3, 26071]]"
      ]
     },
     "execution_count": 43,
     "metadata": {},
     "output_type": "execute_result"
    }
   ],
   "source": [
    "sorted_accuracy = sorted(perf,key=lambda x: x[1], reverse=False)\n",
    "sorted_accuracy[1]\n",
    "\n",
    "transposed_values=[]\n",
    "for sample,accuracy in sorted_accuracy:\n",
    "    transposed_values.append([accuracy,sample])\n",
    "    \n",
    "transposed_values"
   ]
  },
  {
   "cell_type": "code",
   "execution_count": 44,
   "metadata": {},
   "outputs": [
    {
     "data": {
      "text/plain": [
       "Text(0.5,0,'Prediction Accuracy')"
      ]
     },
     "execution_count": 44,
     "metadata": {},
     "output_type": "execute_result"
    },
    {
     "data": {
      "image/png": "[encoded data removed]",
      "text/plain": [
       "<Figure size 432x288 with 1 Axes>"
      ]
     },
     "metadata": {},
     "output_type": "display_data"
    }
   ],
   "source": [
    "plt.loglog(transposed_values)\n",
    "plt.ylabel(\"Taining Sample Size\")\n",
    "plt.xlabel(\"Prediction Accuracy\")"
   ]
  },
  {
   "cell_type": "code",
   "execution_count": 45,
   "metadata": {},
   "outputs": [
    {
     "data": {
      "text/plain": [
       "([array([2., 0., 0., 0., 0., 0., 0., 0., 0., 0.]),\n",
       "  array([2., 0., 0., 0., 0., 0., 0., 0., 0., 0.]),\n",
       "  array([1., 0., 1., 0., 0., 0., 0., 0., 0., 0.]),\n",
       "  array([1., 0., 0., 1., 0., 0., 0., 0., 0., 0.]),\n",
       "  array([1., 0., 0., 0., 0., 0., 1., 0., 0., 0.]),\n",
       "  array([1., 0., 0., 0., 1., 0., 0., 0., 0., 0.]),\n",
       "  array([1., 0., 0., 1., 0., 0., 0., 0., 0., 0.]),\n",
       "  array([1., 0., 0., 0., 0., 0., 1., 0., 0., 0.]),\n",
       "  array([1., 0., 0., 0., 0., 0., 1., 0., 0., 0.]),\n",
       "  array([1., 0., 0., 0., 0., 0., 0., 0., 0., 1.])],\n",
       " array([   81.26 ,  2680.234,  5279.208,  7878.182, 10477.156, 13076.13 ,\n",
       "        15675.104, 18274.078, 20873.052, 23472.026, 26071.   ]),\n",
       " <a list of 10 Lists of Patches objects>)"
      ]
     },
     "execution_count": 45,
     "metadata": {},
     "output_type": "execute_result"
    },
    {
     "data": {
      "image/png": "[encoded data removed]",
      "text/plain": [
       "<Figure size 432x288 with 1 Axes>"
      ]
     },
     "metadata": {},
     "output_type": "display_data"
    }
   ],
   "source": [
    "plt.hist(transposed_values)"
   ]
  },
  {
   "cell_type": "code",
   "execution_count": 46,
   "metadata": {},
   "outputs": [
    {
     "name": "stdout",
     "output_type": "stream",
     "text": [
      "1507\n",
      "81.26\n",
      "2648\n",
      "83.06\n",
      "6792\n",
      "87.13\n",
      "8025\n",
      "87.95\n",
      "18227\n",
      "88.3\n",
      "13011\n",
      "88.48\n",
      "8682\n",
      "88.66\n",
      "17103\n",
      "88.84\n",
      "17549\n",
      "88.88\n",
      "26071\n",
      "91.3\n"
     ]
    }
   ],
   "source": [
    "for point in sorted_accuracy:\n",
    "    print(point[0])\n",
    "    print(point[1])"
   ]
  },
  {
   "cell_type": "code",
   "execution_count": 47,
   "metadata": {},
   "outputs": [
    {
     "name": "stdout",
     "output_type": "stream",
     "text": [
      "[(1507, 81.26), (2648, 83.06), (6792, 87.13), (8025, 87.95), (18227, 88.3), (13011, 88.48), (8682, 88.66), (17103, 88.84), (17549, 88.88), (26071, 91.3)]\n",
      "[[81.26, 1507], [83.06, 2648], [87.13, 6792], [87.95, 8025], [88.3, 18227], [88.48, 13011], [88.66, 8682], [88.84, 17103], [88.88, 17549], [91.3, 26071]]\n",
      "[(81.26, 83.06, 87.13, 87.95, 88.3, 88.48, 88.66, 88.84, 88.88, 91.3), (1507, 2648, 6792, 8025, 18227, 13011, 8682, 17103, 17549, 26071)]\n"
     ]
    }
   ],
   "source": [
    "print(sorted_accuracy)\n",
    "print(transposed_values)\n",
    "\n",
    "retransposed = list(zip(*transposed_values))\n",
    "print(retransposed)"
   ]
  },
  {
   "cell_type": "code",
   "execution_count": 48,
   "metadata": {},
   "outputs": [
    {
     "data": {
      "image/png": "[encoded data removed]",
      "text/plain": [
       "<Figure size 864x432 with 1 Axes>"
      ]
     },
     "metadata": {},
     "output_type": "display_data"
    }
   ],
   "source": [
    "plt.figure(figsize = (12,6))\n",
    "plt.scatter(retransposed[0],retransposed[1])\n",
    "plt.show()"
   ]
  },
  {
   "cell_type": "code",
   "execution_count": 49,
   "metadata": {},
   "outputs": [],
   "source": [
    "perf=montecarlo_runner(100)"
   ]
  },
  {
   "cell_type": "code",
   "execution_count": 50,
   "metadata": {},
   "outputs": [
    {
     "data": {
      "text/plain": [
       "[(14518,\n",
       "  13679,\n",
       "  10985,\n",
       "  24053,\n",
       "  23801,\n",
       "  16887,\n",
       "  23125,\n",
       "  6985,\n",
       "  26425,\n",
       "  7753,\n",
       "  6960,\n",
       "  25249,\n",
       "  26940,\n",
       "  11533,\n",
       "  8945,\n",
       "  16775,\n",
       "  9073,\n",
       "  9424,\n",
       "  3124,\n",
       "  23316,\n",
       "  19515,\n",
       "  15672,\n",
       "  9030,\n",
       "  7845,\n",
       "  17205,\n",
       "  25657,\n",
       "  23117,\n",
       "  2094,\n",
       "  19574,\n",
       "  1542,\n",
       "  17013,\n",
       "  4249,\n",
       "  4210,\n",
       "  3994,\n",
       "  2243,\n",
       "  10834,\n",
       "  3363,\n",
       "  23077,\n",
       "  8594,\n",
       "  8224,\n",
       "  22696,\n",
       "  1194,\n",
       "  7733,\n",
       "  21436,\n",
       "  16672,\n",
       "  13671,\n",
       "  3345,\n",
       "  4954,\n",
       "  11491,\n",
       "  23580,\n",
       "  24428,\n",
       "  14639,\n",
       "  7088,\n",
       "  223,\n",
       "  11513,\n",
       "  1220,\n",
       "  3743,\n",
       "  17661,\n",
       "  18299,\n",
       "  3710,\n",
       "  24251,\n",
       "  2397,\n",
       "  18835,\n",
       "  8032,\n",
       "  5000,\n",
       "  23001,\n",
       "  18313,\n",
       "  10528,\n",
       "  12428,\n",
       "  11905,\n",
       "  8639,\n",
       "  26586,\n",
       "  12158,\n",
       "  10702,\n",
       "  14641,\n",
       "  7062,\n",
       "  23808,\n",
       "  10812,\n",
       "  22538,\n",
       "  14805,\n",
       "  14898,\n",
       "  3991,\n",
       "  5549,\n",
       "  6973,\n",
       "  20502,\n",
       "  15343,\n",
       "  3761,\n",
       "  9807,\n",
       "  12779,\n",
       "  25419,\n",
       "  19152,\n",
       "  1461,\n",
       "  5612,\n",
       "  1770,\n",
       "  2147,\n",
       "  13474,\n",
       "  23173,\n",
       "  8952,\n",
       "  23499,\n",
       "  19019),\n",
       " (88.82,\n",
       "  88.72,\n",
       "  87.98,\n",
       "  90.82,\n",
       "  90.57,\n",
       "  88.71,\n",
       "  90.37,\n",
       "  87.3,\n",
       "  90.39,\n",
       "  87.47,\n",
       "  87.29,\n",
       "  91.18,\n",
       "  90.53,\n",
       "  88.36,\n",
       "  88.7,\n",
       "  88.68,\n",
       "  88.8,\n",
       "  88.63,\n",
       "  83.37,\n",
       "  90.23,\n",
       "  88.69,\n",
       "  88.51,\n",
       "  88.71,\n",
       "  87.58,\n",
       "  88.84,\n",
       "  91.43,\n",
       "  90.34,\n",
       "  83.23,\n",
       "  88.73,\n",
       "  81.4,\n",
       "  88.83,\n",
       "  85.27,\n",
       "  85.19,\n",
       "  84.97,\n",
       "  83.56,\n",
       "  87.92,\n",
       "  83.93,\n",
       "  90.36,\n",
       "  88.58,\n",
       "  88.18,\n",
       "  89.96,\n",
       "  83.0,\n",
       "  87.42,\n",
       "  89.27,\n",
       "  88.69,\n",
       "  88.73,\n",
       "  83.74,\n",
       "  85.88,\n",
       "  88.29,\n",
       "  90.54,\n",
       "  91.23,\n",
       "  88.76,\n",
       "  87.26,\n",
       "  84.23,\n",
       "  88.35,\n",
       "  82.15,\n",
       "  84.78,\n",
       "  89.02,\n",
       "  88.29,\n",
       "  84.74,\n",
       "  90.92,\n",
       "  83.69,\n",
       "  88.43,\n",
       "  87.96,\n",
       "  85.82,\n",
       "  90.3,\n",
       "  88.33,\n",
       "  87.79,\n",
       "  88.44,\n",
       "  88.14,\n",
       "  88.64,\n",
       "  90.32,\n",
       "  88.37,\n",
       "  87.94,\n",
       "  88.76,\n",
       "  87.23,\n",
       "  90.58,\n",
       "  87.92,\n",
       "  89.85,\n",
       "  88.73,\n",
       "  88.83,\n",
       "  84.97,\n",
       "  85.97,\n",
       "  87.29,\n",
       "  89.2,\n",
       "  88.68,\n",
       "  84.83,\n",
       "  88.54,\n",
       "  88.54,\n",
       "  91.07,\n",
       "  88.53,\n",
       "  81.1,\n",
       "  85.97,\n",
       "  82.38,\n",
       "  83.45,\n",
       "  88.54,\n",
       "  90.38,\n",
       "  88.7,\n",
       "  90.42,\n",
       "  88.38)]"
      ]
     },
     "execution_count": 50,
     "metadata": {},
     "output_type": "execute_result"
    }
   ],
   "source": [
    "data = list(zip(*perf))\n",
    "data"
   ]
  },
  {
   "cell_type": "code",
   "execution_count": 51,
   "metadata": {},
   "outputs": [
    {
     "data": {
      "image/png": "[encoded data removed]",
      "text/plain": [
       "<Figure size 864x432 with 1 Axes>"
      ]
     },
     "metadata": {},
     "output_type": "display_data"
    }
   ],
   "source": [
    "plt.figure(figsize = (12,6))\n",
    "plt.scatter(data[1],data[0])\n",
    "plt.show()"
   ]
  },
  {
   "cell_type": "code",
   "execution_count": 52,
   "metadata": {},
   "outputs": [],
   "source": [
    "def go_the_whole_hog(iterations):\n",
    "    raw_data=montecarlo_runner(iterations)\n",
    "    serialized_data = list(zip(*raw_data))\n",
    "    plt.figure(figsize = (12,6))\n",
    "    plt.xlabel(\"Taining Sample Size\")\n",
    "    plt.ylabel(\"Prediction Accuracy\")\n",
    "    plt.scatter(serialized_data[0],serialized_data[1])\n",
    "    plt.show()"
   ]
  },
  {
   "cell_type": "code",
   "execution_count": 53,
   "metadata": {},
   "outputs": [
    {
     "data": {
      "image/png": "[encoded data removed]",
      "text/plain": [
       "<Figure size 864x432 with 1 Axes>"
      ]
     },
     "metadata": {},
     "output_type": "display_data"
    }
   ],
   "source": [
    "go_the_whole_hog(10)"
   ]
  },
  {
   "cell_type": "code",
   "execution_count": 54,
   "metadata": {},
   "outputs": [],
   "source": [
    "def generate_data_for_(iterations):\n",
    "    raw_data=montecarlo_runner(iterations)\n",
    "    serialized_data = list(zip(*raw_data))\n",
    "    return serialized_data\n",
    "\n",
    "def visualize_data(data):\n",
    "    plt.figure(figsize = (12,6))\n",
    "    plt.ylabel(\"Taining Sample Size\")\n",
    "    plt.xlabel(\"Prediction Accuracy\")\n",
    "    plt.scatter(data[1],data[0])\n",
    "    plt.show()"
   ]
  },
  {
   "cell_type": "code",
   "execution_count": 55,
   "metadata": {},
   "outputs": [],
   "source": [
    "def how_big_should_my_sample_be(iterations):\n",
    "    data = generate_data_for_(iterations)\n",
    "    visualize_data(data)"
   ]
  },
  {
   "cell_type": "code",
   "execution_count": 56,
   "metadata": {},
   "outputs": [
    {
     "data": {
      "image/png": "[encoded data removed]",
      "text/plain": [
       "<Figure size 864x432 with 1 Axes>"
      ]
     },
     "metadata": {},
     "output_type": "display_data"
    }
   ],
   "source": [
    "how_big_should_my_sample_be(10)"
   ]
  },
  {
   "cell_type": "code",
   "execution_count": 57,
   "metadata": {},
   "outputs": [
    {
     "data": {
      "image/png": "[encoded data removed]",
      "text/plain": [
       "<Figure size 864x432 with 1 Axes>"
      ]
     },
     "metadata": {},
     "output_type": "display_data"
    }
   ],
   "source": [
    "how_big_should_my_sample_be(100)"
   ]
  },
  {
   "cell_type": "code",
   "execution_count": 58,
   "metadata": {},
   "outputs": [
    {
     "data": {
      "image/png": "[encoded data removed]",
      "text/plain": [
       "<Figure size 864x432 with 1 Axes>"
      ]
     },
     "metadata": {},
     "output_type": "display_data"
    }
   ],
   "source": [
    "how_big_should_my_sample_be(1000)"
   ]
  }
 ],
 "metadata": {
  "kernelspec": {
   "display_name": "Python 3",
   "language": "python",
   "name": "python3"
  },
  "language_info": {
   "codemirror_mode": {
    "name": "ipython",
    "version": 3
   },
   "file_extension": ".py",
   "mimetype": "text/x-python",
   "name": "python",
   "nbconvert_exporter": "python",
   "pygments_lexer": "ipython3",
   "version": "3.6.6"
  }
 },
 "nbformat": 4,
 "nbformat_minor": 2
}
